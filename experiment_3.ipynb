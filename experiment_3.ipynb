{
 "cells": [
  {
   "cell_type": "markdown",
   "id": "d8d3768b-8c9b-4080-9eb5-975ffd5a3817",
   "metadata": {},
   "source": [
    "# Experiment 3: T5-small"
   ]
  },
  {
   "cell_type": "markdown",
   "id": "11c93a10-4c30-4dba-92f0-3039abad0245",
   "metadata": {},
   "source": [
    "#### Reference: Exploring the limits of transfer learning with a unified text-to-text transformer (Raffel et al., 2020)"
   ]
  },
  {
   "cell_type": "markdown",
   "id": "8feba43c-6538-4ca5-b679-ad34e3bf7530",
   "metadata": {},
   "source": [
    "Hyperparameters used in experiment 3:\n",
    "- d_model = 128\n",
    "- num_heads = 4\n",
    "- d_ff = 512\n",
    "- dropout = 0.1\n",
    "\n",
    "List of experiments:\n",
    "- d_model = (64, **128**, 256)\n",
    "- num_heads = (2, **4**, 8)\n",
    "- d_ff = (128, 256, **512**)\n",
    "- dropout = (**0.1**, 0.2)"
   ]
  },
  {
   "cell_type": "markdown",
   "id": "5038ad87-a3fb-4a83-bf20-ed51decfd7ee",
   "metadata": {},
   "source": [
    "## Import libraries"
   ]
  },
  {
   "cell_type": "code",
   "execution_count": 1,
   "id": "6e8a26ce-620a-4cfe-b863-a96a09569373",
   "metadata": {},
   "outputs": [],
   "source": [
    "import os\n",
    "os.environ[\"CUDA_VISIBLE_DEVICES\"] = \"3\""
   ]
  },
  {
   "cell_type": "code",
   "execution_count": 2,
   "id": "4f4e959b-b6c3-4387-9505-cf8da7f195a1",
   "metadata": {},
   "outputs": [
    {
     "name": "stdout",
     "output_type": "stream",
     "text": [
      "Defaulting to user installation because normal site-packages is not writeable\n",
      "Requirement already satisfied: transformers in /home/jupyter-23524026/.local/lib/python3.10/site-packages (4.51.3)\n",
      "Requirement already satisfied: sentencepiece in /home/jupyter-23524026/.local/lib/python3.10/site-packages (0.2.0)\n",
      "Requirement already satisfied: filelock in /opt/tljh/user/lib/python3.10/site-packages (from transformers) (3.13.1)\n",
      "Requirement already satisfied: huggingface-hub<1.0,>=0.30.0 in /home/jupyter-23524026/.local/lib/python3.10/site-packages (from transformers) (0.31.4)\n",
      "Requirement already satisfied: numpy>=1.17 in /opt/tljh/user/lib/python3.10/site-packages (from transformers) (1.26.4)\n",
      "Requirement already satisfied: packaging>=20.0 in /opt/tljh/user/lib/python3.10/site-packages (from transformers) (24.1)\n",
      "Requirement already satisfied: pyyaml>=5.1 in /opt/tljh/user/lib/python3.10/site-packages (from transformers) (6.0.1)\n",
      "Requirement already satisfied: regex!=2019.12.17 in /opt/tljh/user/lib/python3.10/site-packages (from transformers) (2023.12.25)\n",
      "Requirement already satisfied: requests in /home/jupyter-23524026/.local/lib/python3.10/site-packages (from transformers) (2.32.3)\n",
      "Requirement already satisfied: tokenizers<0.22,>=0.21 in /home/jupyter-23524026/.local/lib/python3.10/site-packages (from transformers) (0.21.1)\n",
      "Requirement already satisfied: safetensors>=0.4.3 in /home/jupyter-23524026/.local/lib/python3.10/site-packages (from transformers) (0.5.3)\n",
      "Requirement already satisfied: tqdm>=4.27 in /opt/tljh/user/lib/python3.10/site-packages (from transformers) (4.66.4)\n",
      "Requirement already satisfied: fsspec>=2023.5.0 in /opt/tljh/user/lib/python3.10/site-packages (from huggingface-hub<1.0,>=0.30.0->transformers) (2024.2.0)\n",
      "Requirement already satisfied: typing-extensions>=3.7.4.3 in /opt/tljh/user/lib/python3.10/site-packages (from huggingface-hub<1.0,>=0.30.0->transformers) (4.12.2)\n",
      "Requirement already satisfied: charset-normalizer<4,>=2 in /opt/tljh/user/lib/python3.10/site-packages (from requests->transformers) (3.3.2)\n",
      "Requirement already satisfied: idna<4,>=2.5 in /opt/tljh/user/lib/python3.10/site-packages (from requests->transformers) (3.7)\n",
      "Requirement already satisfied: urllib3<3,>=1.21.1 in /opt/tljh/user/lib/python3.10/site-packages (from requests->transformers) (2.2.1)\n",
      "Requirement already satisfied: certifi>=2017.4.17 in /opt/tljh/user/lib/python3.10/site-packages (from requests->transformers) (2024.7.4)\n"
     ]
    }
   ],
   "source": [
    "import sys\n",
    "!{sys.executable} -m pip install transformers sentencepiece"
   ]
  },
  {
   "cell_type": "code",
   "execution_count": 3,
   "id": "687dd475-505d-4720-9c64-be78db2ae0dd",
   "metadata": {},
   "outputs": [],
   "source": [
    "import torch\n",
    "import torch.nn as nn\n",
    "import torch.nn.functional as F\n",
    "import numpy as np\n",
    "import matplotlib.pyplot as plt\n",
    "import math\n",
    "import random\n",
    "from datasets import load_dataset\n",
    "from transformers import T5Tokenizer\n",
    "from transformers import Adafactor\n",
    "from torch.utils.data import Dataset, DataLoader\n",
    "from sklearn.metrics import accuracy_score, f1_score\n",
    "from nltk.translate.bleu_score import corpus_bleu, SmoothingFunction\n",
    "from tqdm import tqdm\n",
    "from collections import Counter, defaultdict"
   ]
  },
  {
   "cell_type": "markdown",
   "id": "b17d019e-c3e8-4a62-80b2-72b030eb5554",
   "metadata": {},
   "source": [
    "## Load dataset, split train & test"
   ]
  },
  {
   "cell_type": "code",
   "execution_count": 4,
   "id": "ca55ae64-4bbe-4f89-9c79-034e438666c1",
   "metadata": {},
   "outputs": [],
   "source": [
    "dataset = load_dataset(\"sciq\")\n",
    "train_data = dataset[\"train\"]\n",
    "test_data = dataset[\"test\"]\n",
    "val_data = dataset[\"validation\"]"
   ]
  },
  {
   "cell_type": "markdown",
   "id": "7b09a764-b45f-4b6e-aab1-2b361e92d839",
   "metadata": {},
   "source": [
    "## Tokenization, padding, truncation"
   ]
  },
  {
   "cell_type": "code",
   "execution_count": 5,
   "id": "fe0c5779-1445-45e2-a110-69f36c1f554e",
   "metadata": {},
   "outputs": [
    {
     "name": "stderr",
     "output_type": "stream",
     "text": [
      "You are using the default legacy behaviour of the <class 'transformers.models.t5.tokenization_t5.T5Tokenizer'>. This is expected, and simply means that the `legacy` (previous) behavior will be used so nothing changes for you. If you want to use the new behaviour, set `legacy=False`. This should only be set if you understand what it means, and thoroughly read the reason why this was added as explained in https://github.com/huggingface/transformers/pull/24565\n"
     ]
    }
   ],
   "source": [
    "tokenizer = T5Tokenizer.from_pretrained(\"t5-small\")\n",
    "\n",
    "MAX_INPUT_LEN = 64\n",
    "MAX_TARGET_LEN = 16\n",
    "\n",
    "def preprocess(example):\n",
    "    input_text = f\"question: {example['question']}\"\n",
    "    target_text = example[\"correct_answer\"]\n",
    "\n",
    "    input_enc = tokenizer(\n",
    "        input_text,\n",
    "        padding=\"max_length\",\n",
    "        truncation=True,\n",
    "        max_length=MAX_INPUT_LEN\n",
    "    )\n",
    "\n",
    "    target_enc = tokenizer(\n",
    "        target_text,\n",
    "        truncation=True,\n",
    "        max_length=MAX_TARGET_LEN - 1\n",
    "    )\n",
    "\n",
    "    target_ids = target_enc.input_ids + [tokenizer.eos_token_id]\n",
    "    target_ids = target_ids[:MAX_TARGET_LEN]\n",
    "    pad_len = MAX_TARGET_LEN - len(target_ids)\n",
    "    target_ids += [tokenizer.pad_token_id] * pad_len\n",
    "\n",
    "    return {\n",
    "        \"input_ids\": torch.tensor(input_enc.input_ids),\n",
    "        \"attention_mask\": torch.tensor(input_enc.attention_mask),\n",
    "        \"labels\": torch.tensor(target_ids),\n",
    "    }"
   ]
  },
  {
   "cell_type": "markdown",
   "id": "63a6ed0f-d5ad-411b-81e6-6396def4825d",
   "metadata": {},
   "source": [
    "Karena baseline yang digunakan T5-small, maka menggunakan tokenizer T5-small juga. Alasannya agar vocab dan encoding yang digunakan sama seperti baseline.\n",
    "\n",
    "- Maksimal 64 token input (question).\n",
    "- Maksimal 16 token target (answer).\n",
    "\n",
    "Jika lebih dari itu, maka akan di-truncate (truncation = true)\n",
    "\n",
    "MAX_TARGET_LEN - 1 untuk menyisakan ruang untuk eos_token_id"
   ]
  },
  {
   "cell_type": "code",
   "execution_count": 6,
   "id": "613e0847-a973-400c-8bb4-f067f788cdc3",
   "metadata": {},
   "outputs": [
    {
     "name": "stdout",
     "output_type": "stream",
     "text": [
      "32000\n"
     ]
    }
   ],
   "source": [
    "print(tokenizer.vocab_size)"
   ]
  },
  {
   "cell_type": "markdown",
   "id": "088a9537-1c69-4f0c-9dab-4589407eff1a",
   "metadata": {},
   "source": [
    "## PyTorch dataset wrapper"
   ]
  },
  {
   "cell_type": "code",
   "execution_count": 7,
   "id": "85fa0d08-bfb7-4236-8060-e1c996ada6d1",
   "metadata": {},
   "outputs": [],
   "source": [
    "class SciQDataset(Dataset):\n",
    "    def __init__(self, hf_dataset):\n",
    "        self.data = [preprocess(x) for x in hf_dataset]\n",
    "    def __len__(self):\n",
    "        return len(self.data)\n",
    "    def __getitem__(self, idx):\n",
    "        return self.data[idx]"
   ]
  },
  {
   "cell_type": "markdown",
   "id": "1aabb704-8eda-46ce-8984-5192e34859f6",
   "metadata": {},
   "source": [
    "## Create data loaders"
   ]
  },
  {
   "cell_type": "code",
   "execution_count": 8,
   "id": "73b79a73-9108-42db-8d6a-a421715e3d11",
   "metadata": {},
   "outputs": [],
   "source": [
    "train_dataset = SciQDataset(train_data)\n",
    "val_dataset = SciQDataset(val_data)\n",
    "\n",
    "g = torch.Generator()\n",
    "g.manual_seed(42)\n",
    "\n",
    "train_loader = DataLoader(train_dataset, batch_size=16, shuffle=True, generator=g)\n",
    "val_loader = DataLoader(val_dataset, batch_size=16, shuffle=False)"
   ]
  },
  {
   "cell_type": "markdown",
   "id": "de7b9a38-1fd6-4c2a-9df2-a5f491467521",
   "metadata": {},
   "source": [
    "Menggunakan seed generator agar hasil shuffle dapat direproduksi ulang."
   ]
  },
  {
   "cell_type": "markdown",
   "id": "ec8192dc-a2da-4362-ae55-ab2a57bdbcae",
   "metadata": {},
   "source": [
    "## Positional encoding"
   ]
  },
  {
   "cell_type": "code",
   "execution_count": 9,
   "id": "0749f98e-2b25-4d26-9736-01a0ba94b134",
   "metadata": {},
   "outputs": [],
   "source": [
    "class PositionalEncoding(nn.Module):\n",
    "    def __init__(self, d_model, max_len=64):\n",
    "        super().__init__()\n",
    "        pe = torch.zeros(max_len, d_model)\n",
    "        position = torch.arange(0, max_len).unsqueeze(1)\n",
    "        div_term = torch.exp(torch.arange(0, d_model, 2) * (-math.log(10000.0) / d_model))\n",
    "        pe[:, 0::2] = torch.sin(position * div_term)\n",
    "        pe[:, 1::2] = torch.cos(position * div_term)\n",
    "        pe = pe.unsqueeze(0)\n",
    "        self.register_buffer('pe', pe)\n",
    "\n",
    "    def forward(self, x):\n",
    "        return x + self.pe[:, :x.size(1)]"
   ]
  },
  {
   "cell_type": "markdown",
   "id": "b5e5f3b3-0369-47ce-8a84-d9e7b6ff772b",
   "metadata": {},
   "source": [
    "Pada T5 pre-trained tidak menggunakan sinusoidal positional encoding tetapi relative position bias (RPB). Namun karena RPB terlalu kompleks untuk baseline model from scratch, saya tetap menggunakan sinusoidal positional encoding."
   ]
  },
  {
   "cell_type": "markdown",
   "id": "bae0c981-de7c-43b7-b80b-6bdbe3d5add5",
   "metadata": {},
   "source": [
    "## Masking function"
   ]
  },
  {
   "cell_type": "code",
   "execution_count": 10,
   "id": "cc3fb9c8-b8a1-40bc-bc87-e8149ba0b670",
   "metadata": {},
   "outputs": [],
   "source": [
    "def generate_causal_mask(size):\n",
    "    mask = torch.tril(torch.ones(size, size)).unsqueeze(0).unsqueeze(0)\n",
    "    return mask"
   ]
  },
  {
   "cell_type": "markdown",
   "id": "b3be3430-c432-4237-9ae5-f505f2ce1697",
   "metadata": {},
   "source": [
    "Fungsi masking agar posisi token hanya dapat melihat dirinya sendiri dan token sebelumnya."
   ]
  },
  {
   "cell_type": "markdown",
   "id": "7f705eb5-5298-415e-af85-2db0a01b3389",
   "metadata": {},
   "source": [
    "## Attention layer"
   ]
  },
  {
   "cell_type": "code",
   "execution_count": 11,
   "id": "f5284720-5910-444a-9da6-a3712c091c5d",
   "metadata": {},
   "outputs": [],
   "source": [
    "class MultiHeadAttention(nn.Module):\n",
    "    def __init__(self, d_model, num_heads, dropout):\n",
    "        super().__init__()\n",
    "        self.num_heads = num_heads\n",
    "        self.head_dim = d_model // num_heads\n",
    "\n",
    "        self.q_proj = nn.Linear(d_model, d_model)\n",
    "        self.k_proj = nn.Linear(d_model, d_model)\n",
    "        self.v_proj = nn.Linear(d_model, d_model)\n",
    "        self.out_proj = nn.Linear(d_model, d_model)\n",
    "\n",
    "        self.dropout = nn.Dropout(dropout)\n",
    "\n",
    "    def forward(self, x, mask=None, kv=None):\n",
    "        if kv is None:\n",
    "            kv = x\n",
    "\n",
    "        B, T_q, _ = x.size()\n",
    "        B, T_kv, _ = kv.size()\n",
    "\n",
    "        q = self.q_proj(x).view(B, T_q, self.num_heads, self.head_dim).transpose(1, 2)\n",
    "        k = self.k_proj(kv).view(B, T_kv, self.num_heads, self.head_dim).transpose(1, 2)\n",
    "        v = self.v_proj(kv).view(B, T_kv, self.num_heads, self.head_dim).transpose(1, 2)\n",
    "\n",
    "        scores = torch.matmul(q, k.transpose(-2, -1)) / math.sqrt(self.head_dim)\n",
    "        if mask is not None:\n",
    "            scores = scores.masked_fill(mask == 0, float('-inf'))\n",
    "\n",
    "        attn_weights = self.dropout(F.softmax(scores, dim=-1))\n",
    "\n",
    "        out = torch.matmul(attn_weights, v).transpose(1, 2).contiguous().view(B, T_q, -1)\n",
    "        return self.out_proj(out)"
   ]
  },
  {
   "cell_type": "markdown",
   "id": "9d9a0074-1e72-4ef4-a3d1-482cd4823d33",
   "metadata": {},
   "source": [
    "Linear projections mengubah input menjadi query, key, value untuk setiap token:\n",
    "- self.q_proj = nn.Linear(d_model, d_model)\n",
    "- self.k_proj = nn.Linear(d_model, d_model)\n",
    "- self.v_proj = nn.Linear(d_model, d_model)\n",
    "\n",
    "Input d_model dipecah menjadi beberapa head agar model dapat fokus ke berbagai bagian input secara paralel:\n",
    "- self.num_heads = num_heads\n",
    "- self.head_dim = d_model // num_heads\n",
    "\n",
    "Pada decoder digunakan masking agar token tidak dapat melihat masa depan:\n",
    "- scores = scores.masked_fill(mask == 0, float('-inf'))"
   ]
  },
  {
   "cell_type": "markdown",
   "id": "0fd5812b-537d-4b98-a549-6fff300d3221",
   "metadata": {},
   "source": [
    "## Norm layer"
   ]
  },
  {
   "cell_type": "code",
   "execution_count": 12,
   "id": "d763bc7b-093c-4175-95a8-34bbd7bc26e9",
   "metadata": {},
   "outputs": [],
   "source": [
    "class LayerNorm(nn.Module):\n",
    "    def __init__(self, hidden_size, eps=1e-6):\n",
    "        super().__init__()\n",
    "        self.weight = nn.Parameter(torch.ones(hidden_size))\n",
    "        self.eps = eps\n",
    "\n",
    "    def forward(self, x):\n",
    "        variance = x.pow(2).mean(-1, keepdim=True)\n",
    "        return x * torch.rsqrt(variance + self.eps) * self.weight"
   ]
  },
  {
   "cell_type": "markdown",
   "id": "94baea43-e6ad-4a4b-a17a-f71be0e92698",
   "metadata": {},
   "source": [
    "- Norm layer digunakan untuk menstabilkan dan mempercepat pelatihan dengan menormalisasikan nilai fitur setiap token.\n",
    "- Norm layer pada T5 hanya menghitung variance, tidak menggunakan mean centering."
   ]
  },
  {
   "cell_type": "markdown",
   "id": "fc82d44c-4ec1-4d19-a8fb-78b03b4ba12d",
   "metadata": {},
   "source": [
    "## Feed forward layer"
   ]
  },
  {
   "cell_type": "code",
   "execution_count": 13,
   "id": "0fba20fe-fd78-4e2f-8e53-d5cfa765256f",
   "metadata": {},
   "outputs": [],
   "source": [
    "class FeedForward(nn.Module):\n",
    "    def __init__(self, d_model, d_ff, dropout):\n",
    "        super().__init__()\n",
    "        self.net = nn.Sequential(\n",
    "            nn.Linear(d_model, d_ff),\n",
    "            nn.ReLU(),\n",
    "            nn.Dropout(dropout),\n",
    "            nn.Linear(d_ff, d_model),\n",
    "            nn.Dropout(dropout)\n",
    "        )\n",
    "\n",
    "    def forward(self, x):\n",
    "        return self.net(x)"
   ]
  },
  {
   "cell_type": "markdown",
   "id": "c5e19092-13da-40f5-b48d-e1b9426c6ee1",
   "metadata": {},
   "source": [
    "- Baseline yang digunakan mengacu pada arsitektur T5 dari paper Raffel et al. (2020) yaitu menggunakan fungsi aktivasi ReLU.\n",
    "- Namun pre-trained T5 saat ini (versi 1.1) menggunakan fungsi aktivasi GeLU."
   ]
  },
  {
   "cell_type": "markdown",
   "id": "ffdf566d-114b-4188-b296-f59d283813d2",
   "metadata": {},
   "source": [
    "## Encoder"
   ]
  },
  {
   "cell_type": "code",
   "execution_count": 14,
   "id": "ef71254b-6260-441c-8b77-34a83335f7b0",
   "metadata": {},
   "outputs": [],
   "source": [
    "class EncoderLayer(nn.Module):\n",
    "    def __init__(self, d_model, num_heads, d_ff, dropout):\n",
    "        super().__init__()\n",
    "        self.self_attn = MultiHeadAttention(d_model, num_heads, dropout)\n",
    "        self.ff = FeedForward(d_model, d_ff, dropout)\n",
    "\n",
    "        self.norm1 = LayerNorm(d_model)\n",
    "        self.norm2 = LayerNorm(d_model)\n",
    "\n",
    "        self.dropout = nn.Dropout(dropout)\n",
    "\n",
    "    def forward(self, x, mask=None):\n",
    "        x = x + self.dropout(self.self_attn(self.norm1(x), mask=mask))\n",
    "        x = x + self.dropout(self.ff(self.norm2(x)))\n",
    "        return x"
   ]
  },
  {
   "cell_type": "markdown",
   "id": "caaa6c6e-cb4e-4c38-a5b6-c5acd821bdc8",
   "metadata": {},
   "source": [
    "Encoder terdiri dari:\n",
    "- Multi head self attention\n",
    "- Feed forward\n",
    "- Layer normalization\n",
    "- Dropout\n",
    "\n",
    "Residual connection:\n",
    "- X adalah representasi input token yang sedang diproses.\n",
    "- X dinormalisasi menggunakan norm1, masuk ke multi head self attention, dropout, ditambahkan kembali ke nilai X sebagai residual connection (X').\n",
    "- X' dinormalisasi menggunakan norm2, masuk ke feed forward, dropout, ditambahkan kembali ke nilai X' sebagai residual connection (X'').\n",
    "\n",
    "T5 menggunakan pre-LN:\n",
    "- Urutan: layer norm -> attention/feed forward -> residual"
   ]
  },
  {
   "cell_type": "markdown",
   "id": "f9eca637-de94-4a5e-b440-395c5a17c3e6",
   "metadata": {},
   "source": [
    "## Decoder"
   ]
  },
  {
   "cell_type": "code",
   "execution_count": 15,
   "id": "418b115c-f4b3-47b9-a918-dc1001f42f65",
   "metadata": {},
   "outputs": [],
   "source": [
    "class DecoderLayer(nn.Module):\n",
    "    def __init__(self, d_model, num_heads, d_ff, dropout):\n",
    "        super().__init__()\n",
    "        self.self_attn = MultiHeadAttention(d_model, num_heads, dropout)\n",
    "        self.cross_attn = MultiHeadAttention(d_model, num_heads, dropout)\n",
    "        self.ff = FeedForward(d_model, d_ff, dropout)\n",
    "\n",
    "        self.norm1 = LayerNorm(d_model)\n",
    "        self.norm2 = LayerNorm(d_model)\n",
    "        self.norm3 = LayerNorm(d_model)\n",
    "\n",
    "        self.dropout = nn.Dropout(dropout)\n",
    "\n",
    "    def forward(self, x, enc_out, self_mask=None, cross_mask=None):\n",
    "        x = x + self.dropout(self.self_attn(self.norm1(x), mask=self_mask))\n",
    "        x = x + self.dropout(self.cross_attn(self.norm2(x), kv=enc_out, mask=cross_mask))\n",
    "        x = x + self.dropout(self.ff(self.norm3(x)))\n",
    "        return x"
   ]
  },
  {
   "cell_type": "markdown",
   "id": "4f2938e8-8d62-4d25-b2ae-58ca9dece776",
   "metadata": {},
   "source": [
    "Decoder terdiri dari:\n",
    "- Masked self attention\n",
    "- Cross attention\n",
    "- Feed forward\n",
    "- Layer normalization\n",
    "- Dropout\n",
    "\n",
    "Residual connection:\n",
    "- X adalah representasi input token yang sedang diproses.\n",
    "- X dinormalisasi menggunakan norm1, masuk ke masked self attention, dropout, ditambahkan kembali ke nilai X sebagai residual connection (X').\n",
    "- X' dinormalisasi menggunakan norm2, masuk ke cross attention, dropout, ditambahkan kembali ke nilai X' sebagai residual connection (X'').\n",
    "- X'' dinormalisasi menggunakan norm3, masuk ke feed forward, dropout, ditambahkan kembali ke nilai X'' sebagai residual connection (X''').\n",
    "\n",
    "T5 menggunakan pre-LN:\n",
    "- Urutan: layer norm -> attention/cross-attention/feed forward -> residual"
   ]
  },
  {
   "cell_type": "markdown",
   "id": "49f80441-f73c-4619-aabd-f3b655787531",
   "metadata": {},
   "source": [
    "## Tranformer model"
   ]
  },
  {
   "cell_type": "code",
   "execution_count": 16,
   "id": "44ceb84f-6e70-4e3d-9b57-f83a93e712a7",
   "metadata": {},
   "outputs": [],
   "source": [
    "class Transformer(nn.Module):\n",
    "    def __init__(self, vocab_size, d_model, num_heads, num_layers, d_ff, max_len=64, dropout=0.1):\n",
    "        super().__init__()\n",
    "        self.tok_emb = nn.Embedding(vocab_size, d_model)\n",
    "        self.pos_enc = PositionalEncoding(d_model, max_len)\n",
    "        self.dropout = nn.Dropout(dropout)\n",
    "        self.enc_layers = nn.ModuleList([EncoderLayer(d_model, num_heads, d_ff, dropout) for _ in range(num_layers)])\n",
    "        self.dec_layers = nn.ModuleList([DecoderLayer(d_model, num_heads, d_ff, dropout) for _ in range(num_layers)])\n",
    "        self.out = nn.Sequential(\n",
    "            nn.LayerNorm(d_model),\n",
    "            nn.Linear(d_model, vocab_size)\n",
    "        )\n",
    "        self.out.weight = self.tok_emb.weight\n",
    "\n",
    "    def forward(self, src, tgt):\n",
    "        src = self.dropout(self.pos_enc(self.tok_emb(src)))\n",
    "        tgt = self.dropout(self.pos_enc(self.tok_emb(tgt)))\n",
    "\n",
    "        tgt_mask = generate_causal_mask(tgt.size(1)).to(tgt.device)\n",
    "\n",
    "        for layer in self.enc_layers:\n",
    "            src = layer(src)\n",
    "\n",
    "        for layer in self.dec_layers:\n",
    "            tgt = layer(tgt, src, self_mask=tgt_mask)\n",
    "\n",
    "        return self.out(tgt)"
   ]
  },
  {
   "cell_type": "markdown",
   "id": "5cc22b4e-8348-4c21-bbea-9db0022367a5",
   "metadata": {},
   "source": [
    "Mengubah token ID menjadi vektor embedding berdimensi d_model:\n",
    "- tok_emb = nn.Embedding()\n",
    "\n",
    "Menambahkan posisi ke vektor token:\n",
    "- pos_enc = PositionalEncoding()\n",
    "\n",
    "Dropout untuk mencegah overfitting:\n",
    "- dropout = nn.Dropout()\n",
    "\n",
    "Layer encoder sejumlah num_layers:\n",
    "- enc_layers = nn.ModuleList()\n",
    "\n",
    "Layer decoder sejumlah num_layers:\n",
    "- dec_layers = nn.ModuleList()\n",
    "\n",
    "Layer akhir untuk memproyeksikan hasil decoder ke distribusi token:\n",
    "- out = nn.Sequential()\n",
    "\n",
    "Weight tying (bagian dari arsitektur T5), sharing bobot antara embedding & output projection:\n",
    "- self.out.weight = self.tok_emb.weight\n",
    "\n",
    "Masking mencegah untuk melihat informasi masa depan saat training:\n",
    "- tgt_mask = generate_causal_mask()\n",
    "\n",
    "Encoder membentuk representasi semantik kontekstual dari input:\n",
    "- for layer in enc_layers: src = layer(src)\n",
    "\n",
    "Decoder melihat prediksi autoregresif berbasis target dan representasi encoder:\n",
    "- for layer in dec_layers: tgt = layer(tgt, src, self_mask=tgt_mask)\n",
    "\n",
    "Output berupa proyeksi logits untuk setiap token posisi (distribusi probabilitas token berikutnya):\n",
    "- self.out(tgt)"
   ]
  },
  {
   "cell_type": "markdown",
   "id": "f68d10d5-3a4e-4ab6-ab9b-12acc7370c30",
   "metadata": {},
   "source": [
    "## Setup training"
   ]
  },
  {
   "cell_type": "code",
   "execution_count": 17,
   "id": "411e9062-bf20-492e-b180-6ae62c405292",
   "metadata": {},
   "outputs": [],
   "source": [
    "device = torch.device(\"cuda\" if torch.cuda.is_available() else \"cpu\")\n",
    "\n",
    "# Experiment 3\n",
    "model = Transformer(\n",
    "    vocab_size=tokenizer.vocab_size,\n",
    "    d_model=128,  # Try: 64 (128) 256\n",
    "    num_heads=4,  # Try: 2 (4) 8\n",
    "    num_layers=2,\n",
    "    d_ff=512,     # Try: 128 256 (512)\n",
    "    dropout=0.1   # Try: (0.1) 0.2\n",
    ").to(device)\n",
    "\n",
    "loss_fn = nn.CrossEntropyLoss(\n",
    "    ignore_index=tokenizer.pad_token_id\n",
    ")\n",
    "\n",
    "optimizer = Adafactor(\n",
    "    model.parameters(),\n",
    "    scale_parameter=True,\n",
    "    relative_step=True,\n",
    "    warmup_init=True,\n",
    "    lr=None\n",
    ")"
   ]
  },
  {
   "cell_type": "markdown",
   "id": "1a4dbbc7-edc7-4747-9b38-b349912c4a58",
   "metadata": {},
   "source": [
    "Mengatur hyperparameter untuk model:\n",
    "- d_model: ukuran hidden states (dimensi representasi token)\n",
    "- num_heads: jumlah attention heads\n",
    "- num_layers: jumlah layer encoder & decoder\n",
    "- d_ff: ukuran hidden layer pada feed forward\n",
    "\n",
    "Loss:\n",
    "- Mengabaikan token padding dalam perhitungan loss\n",
    "- Tidak menggunakan smoothing, target token diberikan probabilitas penuh (1)\n",
    "\n",
    "Optimizer:\n",
    "- Arsitektur T5 menggunakan optimizer Adafactor\n",
    "\n",
    "Arsitektur T5-small:\n",
    "- Menggunakan d_model=512, num_heads=8, num_layers=6, d_ff=2048\n",
    "- Karena dataset yang digunakan berukuran kecil dan model harus dapat dijalankan pada resource terbatas, maka hyperparameter dibuat lebih sederhana"
   ]
  },
  {
   "cell_type": "code",
   "execution_count": 18,
   "id": "a24d3a0e-d241-4780-849b-58045d60729c",
   "metadata": {},
   "outputs": [
    {
     "name": "stdout",
     "output_type": "stream",
     "text": [
      "Layer              Total Params       Trainable\n",
      "---------------------------------------------\n",
      "tok_emb               4,096,000       4,096,000\n",
      "enc_layers              396,032         396,032\n",
      "dec_layers              528,384         528,384\n",
      "out                   4,128,256       4,128,256\n",
      "---------------------------------------------\n",
      "TOTAL                 9,148,672       9,148,672\n"
     ]
    }
   ],
   "source": [
    "def count_params_grouped(model):\n",
    "    param_groups = defaultdict(lambda: {'total': 0, 'trainable': 0})\n",
    "\n",
    "    for name, param in model.named_parameters():\n",
    "        group_name = name.split('.')[0]\n",
    "        param_groups[group_name]['total'] += param.numel()\n",
    "        if param.requires_grad:\n",
    "            param_groups[group_name]['trainable'] += param.numel()\n",
    "\n",
    "    print(f\"{'Layer':<15} {'Total Params':>15} {'Trainable':>15}\")\n",
    "    print(\"-\" * 45)\n",
    "    for group, stats in param_groups.items():\n",
    "        print(f\"{group:<15} {stats['total']:>15,} {stats['trainable']:>15,}\")\n",
    "    \n",
    "    total_all = sum(p['total'] for p in param_groups.values())\n",
    "    total_train = sum(p['trainable'] for p in param_groups.values())\n",
    "    print(\"-\" * 45)\n",
    "    print(f\"{'TOTAL':<15} {total_all:>15,} {total_train:>15,}\")\n",
    "\n",
    "count_params_grouped(model)"
   ]
  },
  {
   "cell_type": "code",
   "execution_count": 17,
   "id": "c06c6dd5-73ad-49fe-9ad9-2dcc10694820",
   "metadata": {},
   "outputs": [],
   "source": [
    "def build_decoder_input(labels):\n",
    "    return torch.cat([\n",
    "        torch.full((labels.size(0), 1), tokenizer.eos_token_id, dtype=torch.long, device=labels.device),\n",
    "        labels[:, :-1]\n",
    "    ], dim=1)"
   ]
  },
  {
   "cell_type": "markdown",
   "id": "d1bb35d7-3e01-4ce3-b14c-01f3b88c9630",
   "metadata": {},
   "source": [
    "- Untuk membangun input untuk decoder dalam arsitektur Transformer.\n",
    "- Saat training, decoder menerima token sebelumnya sebagai input dan harus memprediksi token berikutnya (autoregressive decoding dalam T5)."
   ]
  },
  {
   "cell_type": "code",
   "execution_count": 18,
   "id": "ca6d909c-14a5-4f84-84d0-4f604bb9f176",
   "metadata": {},
   "outputs": [],
   "source": [
    "def evaluate(model, val_loader):\n",
    "    model.eval()\n",
    "    total_loss = 0\n",
    "    with torch.no_grad():\n",
    "        for batch in val_loader:\n",
    "            input_ids = batch[\"input_ids\"].to(device)\n",
    "            labels = batch[\"labels\"].to(device)\n",
    "\n",
    "            decoder_input = build_decoder_input(labels)\n",
    "\n",
    "            output = model(input_ids, decoder_input)\n",
    "            loss = loss_fn(output.view(-1, output.size(-1)), labels.reshape(-1))\n",
    "            total_loss += loss.item()\n",
    "    return total_loss / len(val_loader)"
   ]
  },
  {
   "cell_type": "markdown",
   "id": "eb2cbd3b-f9a4-4e74-97c9-1c7ae51912de",
   "metadata": {},
   "source": [
    "Mengukur seberapa baik model memprediksi token pada data validasi, tanpa melakukan update bobot."
   ]
  },
  {
   "cell_type": "markdown",
   "id": "1f46d414-3a82-4b75-8231-a6cfe79447cd",
   "metadata": {},
   "source": [
    "## Training"
   ]
  },
  {
   "cell_type": "code",
   "execution_count": 19,
   "id": "d8fe30dc-1a3b-431f-b79f-9734a490aaef",
   "metadata": {},
   "outputs": [
    {
     "name": "stderr",
     "output_type": "stream",
     "text": [
      "Epoch 1: 100%|██████████| 730/730 [01:58<00:00,  6.17it/s, train_loss=5.39]\n"
     ]
    },
    {
     "name": "stdout",
     "output_type": "stream",
     "text": [
      "\n",
      "Epoch 1 | Train Loss: 7.7067 | Val Loss: 5.3910\n"
     ]
    },
    {
     "name": "stderr",
     "output_type": "stream",
     "text": [
      "Epoch 2: 100%|██████████| 730/730 [01:53<00:00,  6.43it/s, train_loss=3.87]\n"
     ]
    },
    {
     "name": "stdout",
     "output_type": "stream",
     "text": [
      "\n",
      "Epoch 2 | Train Loss: 4.4650 | Val Loss: 4.1167\n"
     ]
    },
    {
     "name": "stderr",
     "output_type": "stream",
     "text": [
      "Epoch 3: 100%|██████████| 730/730 [01:56<00:00,  6.24it/s, train_loss=3.53]\n"
     ]
    },
    {
     "name": "stdout",
     "output_type": "stream",
     "text": [
      "\n",
      "Epoch 3 | Train Loss: 3.8224 | Val Loss: 3.7703\n"
     ]
    },
    {
     "name": "stderr",
     "output_type": "stream",
     "text": [
      "Epoch 4: 100%|██████████| 730/730 [01:54<00:00,  6.40it/s, train_loss=2.87]\n"
     ]
    },
    {
     "name": "stdout",
     "output_type": "stream",
     "text": [
      "\n",
      "Epoch 4 | Train Loss: 3.3964 | Val Loss: 3.5318\n"
     ]
    },
    {
     "name": "stderr",
     "output_type": "stream",
     "text": [
      "Epoch 5: 100%|██████████| 730/730 [01:38<00:00,  7.39it/s, train_loss=2.92]\n"
     ]
    },
    {
     "name": "stdout",
     "output_type": "stream",
     "text": [
      "\n",
      "Epoch 5 | Train Loss: 3.0522 | Val Loss: 3.3839\n"
     ]
    },
    {
     "name": "stderr",
     "output_type": "stream",
     "text": [
      "Epoch 6: 100%|██████████| 730/730 [01:19<00:00,  9.15it/s, train_loss=2.87]\n"
     ]
    },
    {
     "name": "stdout",
     "output_type": "stream",
     "text": [
      "\n",
      "Epoch 6 | Train Loss: 2.7751 | Val Loss: 3.2864\n"
     ]
    },
    {
     "name": "stderr",
     "output_type": "stream",
     "text": [
      "Epoch 7: 100%|██████████| 730/730 [01:28<00:00,  8.29it/s, train_loss=2.1] \n"
     ]
    },
    {
     "name": "stdout",
     "output_type": "stream",
     "text": [
      "\n",
      "Epoch 7 | Train Loss: 2.5022 | Val Loss: 3.2782\n"
     ]
    },
    {
     "name": "stderr",
     "output_type": "stream",
     "text": [
      "Epoch 8: 100%|██████████| 730/730 [01:19<00:00,  9.20it/s, train_loss=2.18]\n"
     ]
    },
    {
     "name": "stdout",
     "output_type": "stream",
     "text": [
      "\n",
      "Epoch 8 | Train Loss: 2.1760 | Val Loss: 3.3061\n"
     ]
    },
    {
     "name": "stderr",
     "output_type": "stream",
     "text": [
      "Epoch 9: 100%|██████████| 730/730 [01:21<00:00,  8.93it/s, train_loss=1.63]\n"
     ]
    },
    {
     "name": "stdout",
     "output_type": "stream",
     "text": [
      "\n",
      "Epoch 9 | Train Loss: 1.8279 | Val Loss: 3.3664\n"
     ]
    },
    {
     "name": "stderr",
     "output_type": "stream",
     "text": [
      "Epoch 10: 100%|██████████| 730/730 [01:17<00:00,  9.41it/s, train_loss=1.43] \n"
     ]
    },
    {
     "name": "stdout",
     "output_type": "stream",
     "text": [
      "\n",
      "Epoch 10 | Train Loss: 1.4866 | Val Loss: 3.5046\n"
     ]
    }
   ],
   "source": [
    "EPOCHS = 10\n",
    "\n",
    "train_losses = []\n",
    "val_losses = []\n",
    "\n",
    "def set_seed(seed):\n",
    "    random.seed(seed)\n",
    "    np.random.seed(seed)\n",
    "    torch.manual_seed(seed)\n",
    "    torch.cuda.manual_seed_all(seed)\n",
    "    os.environ[\"PYTHONHASHSEED\"] = str(seed)\n",
    "    torch.backends.cudnn.deterministic = True\n",
    "    torch.backends.cudnn.benchmark = False\n",
    "\n",
    "set_seed(42)\n",
    "\n",
    "for epoch in range(EPOCHS):\n",
    "    model.train()\n",
    "    total_loss = 0\n",
    "    loop = tqdm(train_loader, desc=f\"Epoch {epoch+1}\")\n",
    "\n",
    "    for batch in loop:\n",
    "        input_ids = batch[\"input_ids\"].to(device)\n",
    "        labels = batch[\"labels\"].to(device)\n",
    "\n",
    "        decoder_input = build_decoder_input(labels)\n",
    "\n",
    "        optimizer.zero_grad()\n",
    "        output = model(input_ids, decoder_input)\n",
    "        loss = loss_fn(output.view(-1, output.size(-1)), labels.reshape(-1))\n",
    "        loss.backward()\n",
    "        optimizer.step()\n",
    "\n",
    "        total_loss += loss.item()\n",
    "        loop.set_postfix(train_loss=loss.item())\n",
    "\n",
    "    avg_train_loss = total_loss / len(train_loader)\n",
    "    avg_val_loss = evaluate(model, val_loader)\n",
    "\n",
    "    train_losses.append(avg_train_loss)\n",
    "    val_losses.append(avg_val_loss)\n",
    "    \n",
    "    print(f\"\\nEpoch {epoch+1} | Train Loss: {avg_train_loss:.4f} | Val Loss: {avg_val_loss:.4f}\")"
   ]
  },
  {
   "cell_type": "code",
   "execution_count": 20,
   "id": "5ced419f-9f91-4f67-9aca-6f5d8e0de838",
   "metadata": {},
   "outputs": [
    {
     "data": {
      "image/png": "[encoded data removed]",
      "text/plain": [
       "<Figure size 800x500 with 1 Axes>"
      ]
     },
     "metadata": {},
     "output_type": "display_data"
    }
   ],
   "source": [
    "plt.figure(figsize=(8, 5))\n",
    "plt.plot(train_losses, label=\"Train Loss\")\n",
    "plt.plot(val_losses, label=\"Val Loss\")\n",
    "plt.xlabel(\"Epoch\")\n",
    "plt.ylabel(\"Loss\")\n",
    "plt.title(\"Model Loss\")\n",
    "plt.legend()\n",
    "plt.grid(True)\n",
    "plt.tight_layout()\n",
    "plt.show()"
   ]
  },
  {
   "cell_type": "markdown",
   "id": "0d26d9de-d0f8-4cdb-bc3b-4a91ea4e02a2",
   "metadata": {},
   "source": [
    "Terlihat train loss terus turun, tetapi val loss malah naik, artinya model mengalami overfitting."
   ]
  },
  {
   "cell_type": "markdown",
   "id": "5c76627d-d919-4863-821a-46b608edef6f",
   "metadata": {},
   "source": [
    "## Evaluation"
   ]
  },
  {
   "cell_type": "code",
   "execution_count": 21,
   "id": "fce84ecf-2470-4011-bc38-69b97bf7b4a6",
   "metadata": {},
   "outputs": [],
   "source": [
    "def evaluate_accuracy(model, val_loader):\n",
    "    model.eval()\n",
    "    correct = 0\n",
    "    total = 0\n",
    "    with torch.no_grad():\n",
    "        for batch in val_loader:\n",
    "            input_ids = batch[\"input_ids\"].to(device)\n",
    "            labels = batch[\"labels\"].to(device)\n",
    "\n",
    "            decoder_input = labels[:, :-1]\n",
    "            target = labels[:, 1:]\n",
    "\n",
    "            output = model(input_ids, decoder_input)\n",
    "            pred_ids = output.argmax(dim=-1)\n",
    "            correct += (pred_ids == target).float().sum().item()\n",
    "            total += target.numel()\n",
    "    return correct / total"
   ]
  },
  {
   "cell_type": "code",
   "execution_count": 22,
   "id": "396dfd62-5383-4a3c-8224-260da4d5421c",
   "metadata": {},
   "outputs": [
    {
     "name": "stdout",
     "output_type": "stream",
     "text": [
      "Validation Accuracy (Token-Level): 0.1627\n"
     ]
    }
   ],
   "source": [
    "val_acc = evaluate_accuracy(model, val_loader)\n",
    "print(f\"Validation Accuracy (Token-Level): {val_acc:.4f}\")"
   ]
  },
  {
   "cell_type": "code",
   "execution_count": 23,
   "id": "4d2bddcc-17b1-4ca8-ab6e-37bd349a656b",
   "metadata": {},
   "outputs": [],
   "source": [
    "def evaluate_model(model, data_loader, tokenizer):\n",
    "    model.eval()\n",
    "    preds = []\n",
    "    labels_text = []\n",
    "    total_loss = 0.0\n",
    "\n",
    "    loss_fn = nn.CrossEntropyLoss(ignore_index=tokenizer.pad_token_id)\n",
    "\n",
    "    for batch in tqdm(data_loader):\n",
    "        input_ids = batch[\"input_ids\"].to(device)\n",
    "        labels = batch[\"labels\"].to(device)\n",
    "\n",
    "        decoder_input = labels[:, :-1]\n",
    "        target = labels[:, 1:]\n",
    "\n",
    "        with torch.no_grad():\n",
    "            logits = model(input_ids, decoder_input)\n",
    "\n",
    "            loss = loss_fn(logits.reshape(-1, logits.size(-1)), target.reshape(-1))\n",
    "            total_loss += loss.item()\n",
    "\n",
    "            pred_ids = logits.argmax(dim=-1)\n",
    "\n",
    "        for pred, label in zip(pred_ids, target):\n",
    "            pred_text = tokenizer.decode(pred, skip_special_tokens=True)\n",
    "            label_text = tokenizer.decode(label, skip_special_tokens=True)\n",
    "            preds.append(pred_text)\n",
    "            labels_text.append(label_text)\n",
    "\n",
    "    return {\n",
    "        \"loss\": total_loss / len(data_loader),\n",
    "        \"preds\": preds,\n",
    "        \"labels\": labels_text\n",
    "    }"
   ]
  },
  {
   "cell_type": "code",
   "execution_count": 24,
   "id": "84265ba3-1001-4869-a8bb-59d4452dcbf3",
   "metadata": {},
   "outputs": [
    {
     "name": "stderr",
     "output_type": "stream",
     "text": [
      "100%|██████████| 63/63 [00:06<00:00, 10.16it/s]\n"
     ]
    }
   ],
   "source": [
    "results = evaluate_model(model, val_loader, tokenizer)"
   ]
  },
  {
   "cell_type": "code",
   "execution_count": 25,
   "id": "038512d4-930b-457a-814d-1e90891c6660",
   "metadata": {},
   "outputs": [
    {
     "name": "stdout",
     "output_type": "stream",
     "text": [
      "F1 Score: 0.4860\n"
     ]
    }
   ],
   "source": [
    "def compute_f1(preds, labels):\n",
    "    bin_preds = [1 if p == l else 0 for p, l in zip(preds, labels)]\n",
    "    return f1_score([1]*len(labels), bin_preds)\n",
    "\n",
    "f1 = compute_f1(results[\"preds\"], results[\"labels\"])\n",
    "print(f\"F1 Score: {f1:.4f}\")"
   ]
  },
  {
   "cell_type": "code",
   "execution_count": 26,
   "id": "850fa00b-a0b0-4bfa-9740-e2f3dcb41ddb",
   "metadata": {},
   "outputs": [
    {
     "name": "stdout",
     "output_type": "stream",
     "text": [
      "BLEU score: 0.0019\n"
     ]
    }
   ],
   "source": [
    "def compute_bleu(references, hypotheses):\n",
    "    refs = [[ref.split()] for ref in references]\n",
    "    hyps = [hyp.split() for hyp in hypotheses]\n",
    "    smoothie = SmoothingFunction().method1\n",
    "    return corpus_bleu(refs, hyps, smoothing_function=smoothie)\n",
    "\n",
    "bleu = compute_bleu(results[\"labels\"], results[\"preds\"])\n",
    "print(f\"BLEU score: {bleu:.4f}\")"
   ]
  },
  {
   "cell_type": "markdown",
   "id": "7f443d2f-b3b1-4e0b-b4fd-beeae0305952",
   "metadata": {},
   "source": [
    "## Export model"
   ]
  },
  {
   "cell_type": "code",
   "execution_count": 27,
   "id": "b623d25d-cbcb-4596-bda0-5e7965d44278",
   "metadata": {},
   "outputs": [],
   "source": [
    "torch.save(model.state_dict(), \"experiment_3_qa.pt\")"
   ]
  },
  {
   "cell_type": "code",
   "execution_count": 28,
   "id": "1b07810d-c8b0-45b2-8b88-a5275b61d313",
   "metadata": {},
   "outputs": [],
   "source": [
    "# model.load_state_dict(torch.load(\"experiment_3_qa.pt\"))\n",
    "# model.eval()"
   ]
  },
  {
   "cell_type": "markdown",
   "id": "87e14030-8d55-434a-92cb-8b63c07e9889",
   "metadata": {},
   "source": [
    "## Test QA"
   ]
  },
  {
   "cell_type": "code",
   "execution_count": 29,
   "id": "9e958d2b-203e-4060-b535-822a97e9db46",
   "metadata": {},
   "outputs": [],
   "source": [
    "def generate_answer(question_text, max_len=MAX_TARGET_LEN, beam_size=3):\n",
    "    model.eval()\n",
    "    input_enc = tokenizer(\n",
    "        f\"question: {question_text}\",\n",
    "        return_tensors=\"pt\",\n",
    "        truncation=True,\n",
    "        padding=\"max_length\",\n",
    "        max_length=MAX_INPUT_LEN\n",
    "    )\n",
    "    input_ids = input_enc[\"input_ids\"].to(device)\n",
    "\n",
    "    sequences = [(torch.full((1, 1), tokenizer.eos_token_id, dtype=torch.long, device=device), 0.0)]\n",
    "\n",
    "    for _ in range(max_len):\n",
    "        all_candidates = []\n",
    "        for seq, score in sequences:\n",
    "            with torch.no_grad():\n",
    "                logits = model(input_ids, seq)\n",
    "            probs = F.log_softmax(logits[:, -1, :], dim=-1)\n",
    "            topk_probs, topk_ids = probs.topk(beam_size, dim=-1)\n",
    "\n",
    "            for i in range(beam_size):\n",
    "                token_id = topk_ids[0, i].unsqueeze(0).unsqueeze(0)\n",
    "                new_seq = torch.cat([seq, token_id], dim=1)\n",
    "                new_score = score + topk_probs[0, i].item()\n",
    "                all_candidates.append((new_seq, new_score))\n",
    "\n",
    "        sequences = sorted(all_candidates, key=lambda x: x[1], reverse=True)[:beam_size]\n",
    "\n",
    "        if all(seq[0][0, -1].item() == tokenizer.eos_token_id for seq in sequences):\n",
    "            break\n",
    "\n",
    "    best_seq = sequences[0][0][0, 1:]\n",
    "    return tokenizer.decode(best_seq, skip_special_tokens=True)"
   ]
  },
  {
   "cell_type": "code",
   "execution_count": 31,
   "id": "1736d22b-5714-4574-a490-390a60df3a31",
   "metadata": {
    "collapsed": true,
    "jupyter": {
     "outputs_hidden": true
    }
   },
   "outputs": [
    {
     "name": "stdout",
     "output_type": "stream",
     "text": [
      "Q: Compounds that are capable of accepting electrons, such as o 2 or f2, are called what?\n",
      "Model: hip joint\n",
      "True: oxidants\n",
      "\n",
      "Q: What term in biotechnology means a genetically exact copy of an organism?\n",
      "Model: zygote\n",
      "True: clone\n",
      "\n",
      "Q: Vertebrata are characterized by the presence of what?\n",
      "Model: lymphocytes\n",
      "True: backbone\n",
      "\n",
      "Q: What is the height above or below sea level called?\n",
      "Model: wavelength\n",
      "True: elevation\n",
      "\n",
      "Q: Ice cores, varves and what else indicate the environmental conditions at the time of their creation?\n",
      "Model: homeostasis\n",
      "True: tree rings\n",
      "\n",
      "Q: What chemical signals in plants control different processes?\n",
      "Model: water\n",
      "True: plant hormones\n",
      "\n",
      "Q: Meiosis is part of the process of gametogenesis, which is the production of what?\n",
      "Model: meiosis\n",
      "True: sperm and eggs\n",
      "\n",
      "Q: Which type of tree is dominant in temperate forests?\n",
      "Model: myria\n",
      "True: deciduous\n",
      "\n",
      "Q: What kind of viscosity is found in long-chain hydrocarbons?\n",
      "Model: resistance\n",
      "True: highly viscous\n",
      "\n",
      "Q: Ionic compounds have strong electrostatic attractions between oppositely charged ions in this?\n",
      "Model: ions\n",
      "True: regular array\n",
      "\n",
      "Q: About how tall can mid-ocean ridges be?\n",
      "Model: one\n",
      "True: about 2 km\n",
      "\n",
      "Q: What are by far the most common type of invertebrate?\n",
      "Model: capillaries\n",
      "True: insects\n",
      "\n",
      "Q: What do waves deposit to form sandbars and barrier islands?\n",
      "Model: waves\n",
      "True: sediments\n",
      "\n",
      "Q: Penis, testes, and epididymis are organs in what system?\n",
      "Model: reproductives\n",
      "True: male reproductive system\n",
      "\n",
      "Q: Only about one percent of plants have lost what ability, turning them into consumers and even predators, instead of producers?\n",
      "Model: innate\n",
      "True: photosynthesis\n",
      "\n",
      "Q: How does a neon light produce visible light?\n",
      "Model: through time\n",
      "True: electroluminescence\n",
      "\n",
      "Q: The bird ancestor that lived in trees developed what feature commonly associated with birds?\n",
      "Model: homeostasis\n",
      "True: wings\n",
      "\n",
      "Q: What do most living things use to make atp from glucose?\n",
      "Model: energy\n",
      "True: oxygen\n",
      "\n",
      "Q: What are the two most common silicates?\n",
      "Model: feldspar and quartz\n",
      "True: feldspar and quartz\n",
      "\n",
      "Q: What term means the amount of water vapor in the air?\n",
      "Model: humidity\n",
      "True: humidity\n",
      "\n"
     ]
    }
   ],
   "source": [
    "model.eval()\n",
    "\n",
    "for i in range(20):\n",
    "    q = test_data[i][\"question\"]\n",
    "    a = generate_answer(q)\n",
    "    print(f\"Q: {q}\")\n",
    "    print(f\"Model: {a}\")\n",
    "    print(f\"True: {test_data[i]['correct_answer']}\\n\")"
   ]
  },
  {
   "cell_type": "code",
   "execution_count": null,
   "id": "ca74f671-e3b2-4b12-9c11-8d373824f156",
   "metadata": {},
   "outputs": [],
   "source": []
  }
 ],
 "metadata": {
  "kernelspec": {
   "display_name": "Python (DL)",
   "language": "python",
   "name": "venv_dl"
  },
  "language_info": {
   "codemirror_mode": {
    "name": "ipython",
    "version": 3
   },
   "file_extension": ".py",
   "mimetype": "text/x-python",
   "name": "python",
   "nbconvert_exporter": "python",
   "pygments_lexer": "ipython3",
   "version": "3.10.14"
  }
 },
 "nbformat": 4,
 "nbformat_minor": 5
}
